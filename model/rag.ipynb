{
 "cells": [
  {
   "cell_type": "code",
   "execution_count": 46,
   "metadata": {},
   "outputs": [],
   "source": [
    "# RAG Dependencies\n",
    "import os\n",
    "import fitz  # PyMuPDF\n",
    "import chromadb\n",
    "from tqdm import tqdm\n",
    "from spacy.lang.en import English\n",
    "import torch\n",
    "from transformers import AutoTokenizer, AutoModelForCausalLM\n",
    "from sentence_transformers import SentenceTransformer\n",
    "from chromadb.utils import embedding_functions\n",
    "from typing import List\n",
    "from IPython.display import display, Markdown\n",
    "\n",
    "os.environ[\"TOKENIZERS_PARALLELISM\"] = \"false\""
   ]
  },
  {
   "cell_type": "code",
   "execution_count": 47,
   "metadata": {},
   "outputs": [
    {
     "name": "stdout",
     "output_type": "stream",
     "text": [
      "Using device: mps\n"
     ]
    }
   ],
   "source": [
    "# Device setup\n",
    "device = torch.device('cuda' if torch.cuda.is_available() else 'cpu')\n",
    "if device.type == 'cpu' and torch.backends.mps.is_available():\n",
    "    device = torch.device('mps')\n",
    "\n",
    "print(f\"Using device: {device}\")"
   ]
  },
  {
   "cell_type": "code",
   "execution_count": 48,
   "metadata": {},
   "outputs": [
    {
     "name": "stderr",
     "output_type": "stream",
     "text": [
      "Reading PDF: 100%|██████████| 100/100 [00:00<00:00, 551.55it/s]\n"
     ]
    },
    {
     "name": "stdout",
     "output_type": "stream",
     "text": [
      "Number of chunks: 203\n",
      "\n",
      "First chunk sample:\n",
      "FOOD AND NUTRITION HANDBOOK MINISTRY OF AGRICULTURE, ANIMAL INDUSTRY AND FISHERIES FOR EXTENSION WORKERS OCTOBER 2015 Fo o d  a n d  N u t ri t i o n  H a n d b o o k  fo r E xten s i o n  Wo rkers i MINISTRY OF AGRICULTURE, ANIMAL INDUSTRY AND FISHERIES FOOD AND NUTRITION HANDBOOK FOR EXTENSION WORKERS OCTOBER 2015  FANTA III F O O D  A N D  N U T R I T I O N T E C H N I C A L  A S S I S TA N C E Fo o d  a n d  N u t ri t i o n  H a n d b o o k  fo r E xten s i o n  Wo rkers ii   Foreword T he \n"
     ]
    }
   ],
   "source": [
    "### Loading and Chunking the Text\n",
    "def text_formatter(text: str) -> str:\n",
    "    return text.replace(\"\\n\", \" \").strip()\n",
    "\n",
    "def open_and_read_pdf(pdf_path: str) -> str:\n",
    "    doc = fitz.open(pdf_path)\n",
    "    full_text = \"\"\n",
    "    for page in tqdm(doc, desc=\"Reading PDF\"):\n",
    "        text = page.get_text()\n",
    "        full_text += text_formatter(text) + \" \"\n",
    "    return full_text.strip()\n",
    "\n",
    "# Load the document\n",
    "pdf_path = \"nutrition_handbook.pdf\"\n",
    "document = open_and_read_pdf(pdf_path)\n",
    "\n",
    "# Initialize spaCy for sentence splitting\n",
    "nlp = English()\n",
    "nlp.add_pipe(\"sentencizer\")\n",
    "\n",
    "# Split into sentences\n",
    "doc = nlp(document)\n",
    "sentences = [str(sent) for sent in doc.sents]\n",
    "\n",
    "# Create chunks of sentences\n",
    "def create_chunks(sentences, chunk_size=10, overlap=5):\n",
    "    chunks = []\n",
    "    for i in range(0, len(sentences), chunk_size - overlap):\n",
    "        chunk = \" \".join(sentences[i:i + chunk_size])\n",
    "        if len(chunk) > 25:  # Minimum chunk size filter\n",
    "            chunks.append(chunk)\n",
    "    return chunks\n",
    "\n",
    "chunks = create_chunks(sentences)\n",
    "print(f\"Number of chunks: {len(chunks)}\\n\")\n",
    "print(f\"First chunk sample:\\n{chunks[0][:500]}\")\n"
   ]
  },
  {
   "cell_type": "code",
   "execution_count": 49,
   "metadata": {},
   "outputs": [],
   "source": [
    "### Indexing into ChromaDB\n",
    "path = \"vector_db\"\n",
    "client = chromadb.PersistentClient(path=path)"
   ]
  },
  {
   "cell_type": "code",
   "execution_count": 50,
   "metadata": {},
   "outputs": [
    {
     "name": "stdout",
     "output_type": "stream",
     "text": [
      "-------\n",
      "\n",
      "Retrieved Doc:  1\n",
      "Chunk ID:  chunk_64\n",
      "Distance:  1.0473971366882324\n",
      "Text Snippet:  Fo o d  a n d  N u t ri t i o n  H a n d b o o k  fo r E xten s i o n  Wo rkers 28 CHAPTER THREE MEAL PLANNING M eal planning is a process of determining, selecting and preparing  foods to ensure a balanced diet for target groups or individ­ uals. People will always want to eat food that is acceptable, therefore  knowing the consumers’ characteristics, food preferences and location  is important in proper meal planning. Common terms used in meal planning A meal is a selection of foods prepared a...\n",
      "-------\n",
      "\n",
      "Retrieved Doc:  2\n",
      "Chunk ID:  chunk_69\n",
      "Distance:  1.069419503211975\n",
      "Text Snippet:  \t Within a week or the day take advantage of opportunities when  food supply is plentiful and cheap. For instance on market days or  times of the day when farmers are selling directly to urban consum­ ers. Selection of foods to achieve a balanced diet Energy giving foods the “GO” foods (carbohydrates) As much as possible eat more of cereals (millet, maize and sorghum)  compared to tubers (cassava, sweet potato and banana). At least take Fo o d  a n d  N u t ri t i o n  H a n d b o o k  fo r E xt...\n",
      "-------\n",
      "\n",
      "Retrieved Doc:  3\n",
      "Chunk ID:  chunk_65\n",
      "Distance:  1.0952597856521606\n",
      "Text Snippet:  However, they  have increased nutrient requirements for growth and development and  thus require more frequent feeding compared to adults. A balanced diet is a feeding pattern that provides adequate amounts  of nutrients in their correct proportions as required by the body at  a particular time. In order to obtain an adequate supply of nutrients  human beings need at least three balanced meals a day in case of  adults and at least five meals a day for children. Attaining a balanced  diet require...\n",
      "-------\n",
      "\n",
      "Retrieved Doc:  4\n",
      "Chunk ID:  chunk_63\n",
      "Distance:  1.1008578538894653\n",
      "Text Snippet:  \t Undernutrition includes acute malnutrition, chronic malnutri­ tion and micronutrient deficiencies. • \t Undernutrition has immediate causes (inadequate food intake  and illness), underlying causes (household food insecurity,  inadequate maternal and child care practices, poor access to  health, water and sanitation services) and basic causes (sub­ optimal political, economic, and social policies and systems). • \t Consequences of malnutrition include increased illness and  death, poor growth and...\n",
      "-------\n",
      "\n",
      "Retrieved Doc:  5\n",
      "Chunk ID:  chunk_68\n",
      "Distance:  1.1047053337097168\n",
      "Text Snippet:  \t Consider foods available according to season. • \t Take off time to look for affordable places to buy food to reduce on  expenditure. • \t If possible purchase in bulk as it reduces expenditure. • \t Avoid foods which are poor value for money such as food containing  only energy, e.g., sodas and many artificial soft drinks. • \t Except for special occasions, plan several meals at least a week  before. • \t Within a week or the day take advantage of opportunities when  food supply is plentiful and c...\n"
     ]
    }
   ],
   "source": [
    "# Initialize embedding function\n",
    "embedding_model_name = 'all-MiniLM-L6-v2'\n",
    "embedding_function = embedding_functions.SentenceTransformerEmbeddingFunction(model_name=embedding_model_name)\n",
    "\n",
    "ties_collection = client.get_or_create_collection(\n",
    "    name='ties_collection',\n",
    "    embedding_function=embedding_function\n",
    ")\n",
    "\n",
    "# Add documents to collection\n",
    "for i, chunk in enumerate(chunks):\n",
    "    ties_collection.add(\n",
    "        documents=[chunk],\n",
    "        ids=[f\"chunk_{i}\"]\n",
    "    )\n",
    "\n",
    "# Test query\n",
    "query = \"What is a healthy breakfast?\"\n",
    "results = ties_collection.query(\n",
    "    query_texts=[query],\n",
    "    n_results=5\n",
    ")\n",
    "\n",
    "for i in range(len(results['documents'][0])):\n",
    "    print(\"-------\\n\")\n",
    "    print(\"Retrieved Doc: \", i+1)\n",
    "    print(\"Chunk ID: \", results['ids'][0][i])\n",
    "    print(\"Distance: \", results['distances'][0][i])\n",
    "    print(\"Text Snippet: \", f\"{results['documents'][0][i][:500]}...\")"
   ]
  },
  {
   "cell_type": "code",
   "execution_count": 53,
   "metadata": {},
   "outputs": [
    {
     "name": "stderr",
     "output_type": "stream",
     "text": [
      "Loading checkpoint shards: 100%|██████████| 4/4 [00:28<00:00,  7.08s/it]\n"
     ]
    },
    {
     "ename": "KeyboardInterrupt",
     "evalue": "",
     "output_type": "error",
     "traceback": [
      "\u001b[0;31m---------------------------------------------------------------------------\u001b[0m",
      "\u001b[0;31mKeyboardInterrupt\u001b[0m                         Traceback (most recent call last)",
      "Cell \u001b[0;32mIn[53], line 10\u001b[0m\n\u001b[1;32m      5\u001b[0m tokenizer \u001b[38;5;241m=\u001b[39m AutoTokenizer\u001b[38;5;241m.\u001b[39mfrom_pretrained(pretrained_model_name_or_path\u001b[38;5;241m=\u001b[39mmodel_id, token\u001b[38;5;241m=\u001b[39m\u001b[38;5;28;01mTrue\u001b[39;00m)\n\u001b[1;32m      6\u001b[0m llm_model \u001b[38;5;241m=\u001b[39m AutoModelForCausalLM\u001b[38;5;241m.\u001b[39mfrom_pretrained(pretrained_model_name_or_path\u001b[38;5;241m=\u001b[39mmodel_id, \n\u001b[1;32m      7\u001b[0m                                                  torch_dtype\u001b[38;5;241m=\u001b[39mtorch\u001b[38;5;241m.\u001b[39mfloat16, \n\u001b[1;32m      8\u001b[0m                                                  low_cpu_mem_usage\u001b[38;5;241m=\u001b[39m\u001b[38;5;28;01mFalse\u001b[39;00m,\n\u001b[1;32m      9\u001b[0m                                                  token\u001b[38;5;241m=\u001b[39m\u001b[38;5;28;01mTrue\u001b[39;00m)\n\u001b[0;32m---> 10\u001b[0m \u001b[43mllm_model\u001b[49m\u001b[38;5;241;43m.\u001b[39;49m\u001b[43mto\u001b[49m\u001b[43m(\u001b[49m\u001b[43mdevice\u001b[49m\u001b[43m)\u001b[49m\n\u001b[1;32m     12\u001b[0m \u001b[38;5;28;01mdef\u001b[39;00m \u001b[38;5;21mprompt_formatter\u001b[39m(query: \u001b[38;5;28mstr\u001b[39m, context_documents: List[\u001b[38;5;28mstr\u001b[39m]) \u001b[38;5;241m-\u001b[39m\u001b[38;5;241m>\u001b[39m \u001b[38;5;28mstr\u001b[39m:\n\u001b[1;32m     13\u001b[0m     context \u001b[38;5;241m=\u001b[39m \u001b[38;5;124m\"\u001b[39m\u001b[38;5;130;01m\\n\u001b[39;00m\u001b[38;5;124m\"\u001b[39m\u001b[38;5;241m.\u001b[39mjoin([\u001b[38;5;124mf\u001b[39m\u001b[38;5;124m\"\u001b[39m\u001b[38;5;124m[\u001b[39m\u001b[38;5;132;01m{\u001b[39;00mi\u001b[38;5;241m+\u001b[39m\u001b[38;5;241m1\u001b[39m\u001b[38;5;132;01m}\u001b[39;00m\u001b[38;5;124m] \u001b[39m\u001b[38;5;132;01m{\u001b[39;00mdoc\u001b[38;5;132;01m}\u001b[39;00m\u001b[38;5;124m\"\u001b[39m \u001b[38;5;28;01mfor\u001b[39;00m i, doc \u001b[38;5;129;01min\u001b[39;00m \u001b[38;5;28menumerate\u001b[39m(context_documents)])\n",
      "File \u001b[0;32m~/.pyenv/versions/3.10.15/envs/dietbot/lib/python3.10/site-packages/transformers/modeling_utils.py:2958\u001b[0m, in \u001b[0;36mPreTrainedModel.to\u001b[0;34m(self, *args, **kwargs)\u001b[0m\n\u001b[1;32m   2953\u001b[0m     \u001b[38;5;28;01mif\u001b[39;00m dtype_present_in_args:\n\u001b[1;32m   2954\u001b[0m         \u001b[38;5;28;01mraise\u001b[39;00m \u001b[38;5;167;01mValueError\u001b[39;00m(\n\u001b[1;32m   2955\u001b[0m             \u001b[38;5;124m\"\u001b[39m\u001b[38;5;124mYou cannot cast a GPTQ model in a new `dtype`. Make sure to load the model using `from_pretrained` using the desired\u001b[39m\u001b[38;5;124m\"\u001b[39m\n\u001b[1;32m   2956\u001b[0m             \u001b[38;5;124m\"\u001b[39m\u001b[38;5;124m `dtype` by passing the correct `torch_dtype` argument.\u001b[39m\u001b[38;5;124m\"\u001b[39m\n\u001b[1;32m   2957\u001b[0m         )\n\u001b[0;32m-> 2958\u001b[0m \u001b[38;5;28;01mreturn\u001b[39;00m \u001b[38;5;28;43msuper\u001b[39;49m\u001b[43m(\u001b[49m\u001b[43m)\u001b[49m\u001b[38;5;241;43m.\u001b[39;49m\u001b[43mto\u001b[49m\u001b[43m(\u001b[49m\u001b[38;5;241;43m*\u001b[39;49m\u001b[43margs\u001b[49m\u001b[43m,\u001b[49m\u001b[43m \u001b[49m\u001b[38;5;241;43m*\u001b[39;49m\u001b[38;5;241;43m*\u001b[39;49m\u001b[43mkwargs\u001b[49m\u001b[43m)\u001b[49m\n",
      "File \u001b[0;32m~/.pyenv/versions/3.10.15/envs/dietbot/lib/python3.10/site-packages/torch/nn/modules/module.py:1174\u001b[0m, in \u001b[0;36mModule.to\u001b[0;34m(self, *args, **kwargs)\u001b[0m\n\u001b[1;32m   1171\u001b[0m         \u001b[38;5;28;01melse\u001b[39;00m:\n\u001b[1;32m   1172\u001b[0m             \u001b[38;5;28;01mraise\u001b[39;00m\n\u001b[0;32m-> 1174\u001b[0m \u001b[38;5;28;01mreturn\u001b[39;00m \u001b[38;5;28;43mself\u001b[39;49m\u001b[38;5;241;43m.\u001b[39;49m\u001b[43m_apply\u001b[49m\u001b[43m(\u001b[49m\u001b[43mconvert\u001b[49m\u001b[43m)\u001b[49m\n",
      "File \u001b[0;32m~/.pyenv/versions/3.10.15/envs/dietbot/lib/python3.10/site-packages/torch/nn/modules/module.py:780\u001b[0m, in \u001b[0;36mModule._apply\u001b[0;34m(self, fn, recurse)\u001b[0m\n\u001b[1;32m    778\u001b[0m \u001b[38;5;28;01mif\u001b[39;00m recurse:\n\u001b[1;32m    779\u001b[0m     \u001b[38;5;28;01mfor\u001b[39;00m module \u001b[38;5;129;01min\u001b[39;00m \u001b[38;5;28mself\u001b[39m\u001b[38;5;241m.\u001b[39mchildren():\n\u001b[0;32m--> 780\u001b[0m         \u001b[43mmodule\u001b[49m\u001b[38;5;241;43m.\u001b[39;49m\u001b[43m_apply\u001b[49m\u001b[43m(\u001b[49m\u001b[43mfn\u001b[49m\u001b[43m)\u001b[49m\n\u001b[1;32m    782\u001b[0m \u001b[38;5;28;01mdef\u001b[39;00m \u001b[38;5;21mcompute_should_use_set_data\u001b[39m(tensor, tensor_applied):\n\u001b[1;32m    783\u001b[0m     \u001b[38;5;28;01mif\u001b[39;00m torch\u001b[38;5;241m.\u001b[39m_has_compatible_shallow_copy_type(tensor, tensor_applied):\n\u001b[1;32m    784\u001b[0m         \u001b[38;5;66;03m# If the new tensor has compatible tensor type as the existing tensor,\u001b[39;00m\n\u001b[1;32m    785\u001b[0m         \u001b[38;5;66;03m# the current behavior is to change the tensor in-place using `.data =`,\u001b[39;00m\n\u001b[0;32m   (...)\u001b[0m\n\u001b[1;32m    790\u001b[0m         \u001b[38;5;66;03m# global flag to let the user control whether they want the future\u001b[39;00m\n\u001b[1;32m    791\u001b[0m         \u001b[38;5;66;03m# behavior of overwriting the existing tensor or not.\u001b[39;00m\n",
      "File \u001b[0;32m~/.pyenv/versions/3.10.15/envs/dietbot/lib/python3.10/site-packages/torch/nn/modules/module.py:780\u001b[0m, in \u001b[0;36mModule._apply\u001b[0;34m(self, fn, recurse)\u001b[0m\n\u001b[1;32m    778\u001b[0m \u001b[38;5;28;01mif\u001b[39;00m recurse:\n\u001b[1;32m    779\u001b[0m     \u001b[38;5;28;01mfor\u001b[39;00m module \u001b[38;5;129;01min\u001b[39;00m \u001b[38;5;28mself\u001b[39m\u001b[38;5;241m.\u001b[39mchildren():\n\u001b[0;32m--> 780\u001b[0m         \u001b[43mmodule\u001b[49m\u001b[38;5;241;43m.\u001b[39;49m\u001b[43m_apply\u001b[49m\u001b[43m(\u001b[49m\u001b[43mfn\u001b[49m\u001b[43m)\u001b[49m\n\u001b[1;32m    782\u001b[0m \u001b[38;5;28;01mdef\u001b[39;00m \u001b[38;5;21mcompute_should_use_set_data\u001b[39m(tensor, tensor_applied):\n\u001b[1;32m    783\u001b[0m     \u001b[38;5;28;01mif\u001b[39;00m torch\u001b[38;5;241m.\u001b[39m_has_compatible_shallow_copy_type(tensor, tensor_applied):\n\u001b[1;32m    784\u001b[0m         \u001b[38;5;66;03m# If the new tensor has compatible tensor type as the existing tensor,\u001b[39;00m\n\u001b[1;32m    785\u001b[0m         \u001b[38;5;66;03m# the current behavior is to change the tensor in-place using `.data =`,\u001b[39;00m\n\u001b[0;32m   (...)\u001b[0m\n\u001b[1;32m    790\u001b[0m         \u001b[38;5;66;03m# global flag to let the user control whether they want the future\u001b[39;00m\n\u001b[1;32m    791\u001b[0m         \u001b[38;5;66;03m# behavior of overwriting the existing tensor or not.\u001b[39;00m\n",
      "    \u001b[0;31m[... skipping similar frames: Module._apply at line 780 (2 times)]\u001b[0m\n",
      "File \u001b[0;32m~/.pyenv/versions/3.10.15/envs/dietbot/lib/python3.10/site-packages/torch/nn/modules/module.py:780\u001b[0m, in \u001b[0;36mModule._apply\u001b[0;34m(self, fn, recurse)\u001b[0m\n\u001b[1;32m    778\u001b[0m \u001b[38;5;28;01mif\u001b[39;00m recurse:\n\u001b[1;32m    779\u001b[0m     \u001b[38;5;28;01mfor\u001b[39;00m module \u001b[38;5;129;01min\u001b[39;00m \u001b[38;5;28mself\u001b[39m\u001b[38;5;241m.\u001b[39mchildren():\n\u001b[0;32m--> 780\u001b[0m         \u001b[43mmodule\u001b[49m\u001b[38;5;241;43m.\u001b[39;49m\u001b[43m_apply\u001b[49m\u001b[43m(\u001b[49m\u001b[43mfn\u001b[49m\u001b[43m)\u001b[49m\n\u001b[1;32m    782\u001b[0m \u001b[38;5;28;01mdef\u001b[39;00m \u001b[38;5;21mcompute_should_use_set_data\u001b[39m(tensor, tensor_applied):\n\u001b[1;32m    783\u001b[0m     \u001b[38;5;28;01mif\u001b[39;00m torch\u001b[38;5;241m.\u001b[39m_has_compatible_shallow_copy_type(tensor, tensor_applied):\n\u001b[1;32m    784\u001b[0m         \u001b[38;5;66;03m# If the new tensor has compatible tensor type as the existing tensor,\u001b[39;00m\n\u001b[1;32m    785\u001b[0m         \u001b[38;5;66;03m# the current behavior is to change the tensor in-place using `.data =`,\u001b[39;00m\n\u001b[0;32m   (...)\u001b[0m\n\u001b[1;32m    790\u001b[0m         \u001b[38;5;66;03m# global flag to let the user control whether they want the future\u001b[39;00m\n\u001b[1;32m    791\u001b[0m         \u001b[38;5;66;03m# behavior of overwriting the existing tensor or not.\u001b[39;00m\n",
      "File \u001b[0;32m~/.pyenv/versions/3.10.15/envs/dietbot/lib/python3.10/site-packages/torch/nn/modules/module.py:805\u001b[0m, in \u001b[0;36mModule._apply\u001b[0;34m(self, fn, recurse)\u001b[0m\n\u001b[1;32m    801\u001b[0m \u001b[38;5;66;03m# Tensors stored in modules are graph leaves, and we don't want to\u001b[39;00m\n\u001b[1;32m    802\u001b[0m \u001b[38;5;66;03m# track autograd history of `param_applied`, so we have to use\u001b[39;00m\n\u001b[1;32m    803\u001b[0m \u001b[38;5;66;03m# `with torch.no_grad():`\u001b[39;00m\n\u001b[1;32m    804\u001b[0m \u001b[38;5;28;01mwith\u001b[39;00m torch\u001b[38;5;241m.\u001b[39mno_grad():\n\u001b[0;32m--> 805\u001b[0m     param_applied \u001b[38;5;241m=\u001b[39m \u001b[43mfn\u001b[49m\u001b[43m(\u001b[49m\u001b[43mparam\u001b[49m\u001b[43m)\u001b[49m\n\u001b[1;32m    806\u001b[0m p_should_use_set_data \u001b[38;5;241m=\u001b[39m compute_should_use_set_data(param, param_applied)\n\u001b[1;32m    808\u001b[0m \u001b[38;5;66;03m# subclasses may have multiple child tensors so we need to use swap_tensors\u001b[39;00m\n",
      "File \u001b[0;32m~/.pyenv/versions/3.10.15/envs/dietbot/lib/python3.10/site-packages/torch/nn/modules/module.py:1160\u001b[0m, in \u001b[0;36mModule.to.<locals>.convert\u001b[0;34m(t)\u001b[0m\n\u001b[1;32m   1153\u001b[0m     \u001b[38;5;28;01mif\u001b[39;00m convert_to_format \u001b[38;5;129;01mis\u001b[39;00m \u001b[38;5;129;01mnot\u001b[39;00m \u001b[38;5;28;01mNone\u001b[39;00m \u001b[38;5;129;01mand\u001b[39;00m t\u001b[38;5;241m.\u001b[39mdim() \u001b[38;5;129;01min\u001b[39;00m (\u001b[38;5;241m4\u001b[39m, \u001b[38;5;241m5\u001b[39m):\n\u001b[1;32m   1154\u001b[0m         \u001b[38;5;28;01mreturn\u001b[39;00m t\u001b[38;5;241m.\u001b[39mto(\n\u001b[1;32m   1155\u001b[0m             device,\n\u001b[1;32m   1156\u001b[0m             dtype \u001b[38;5;28;01mif\u001b[39;00m t\u001b[38;5;241m.\u001b[39mis_floating_point() \u001b[38;5;129;01mor\u001b[39;00m t\u001b[38;5;241m.\u001b[39mis_complex() \u001b[38;5;28;01melse\u001b[39;00m \u001b[38;5;28;01mNone\u001b[39;00m,\n\u001b[1;32m   1157\u001b[0m             non_blocking,\n\u001b[1;32m   1158\u001b[0m             memory_format\u001b[38;5;241m=\u001b[39mconvert_to_format,\n\u001b[1;32m   1159\u001b[0m         )\n\u001b[0;32m-> 1160\u001b[0m     \u001b[38;5;28;01mreturn\u001b[39;00m \u001b[43mt\u001b[49m\u001b[38;5;241;43m.\u001b[39;49m\u001b[43mto\u001b[49m\u001b[43m(\u001b[49m\n\u001b[1;32m   1161\u001b[0m \u001b[43m        \u001b[49m\u001b[43mdevice\u001b[49m\u001b[43m,\u001b[49m\n\u001b[1;32m   1162\u001b[0m \u001b[43m        \u001b[49m\u001b[43mdtype\u001b[49m\u001b[43m \u001b[49m\u001b[38;5;28;43;01mif\u001b[39;49;00m\u001b[43m \u001b[49m\u001b[43mt\u001b[49m\u001b[38;5;241;43m.\u001b[39;49m\u001b[43mis_floating_point\u001b[49m\u001b[43m(\u001b[49m\u001b[43m)\u001b[49m\u001b[43m \u001b[49m\u001b[38;5;129;43;01mor\u001b[39;49;00m\u001b[43m \u001b[49m\u001b[43mt\u001b[49m\u001b[38;5;241;43m.\u001b[39;49m\u001b[43mis_complex\u001b[49m\u001b[43m(\u001b[49m\u001b[43m)\u001b[49m\u001b[43m \u001b[49m\u001b[38;5;28;43;01melse\u001b[39;49;00m\u001b[43m \u001b[49m\u001b[38;5;28;43;01mNone\u001b[39;49;00m\u001b[43m,\u001b[49m\n\u001b[1;32m   1163\u001b[0m \u001b[43m        \u001b[49m\u001b[43mnon_blocking\u001b[49m\u001b[43m,\u001b[49m\n\u001b[1;32m   1164\u001b[0m \u001b[43m    \u001b[49m\u001b[43m)\u001b[49m\n\u001b[1;32m   1165\u001b[0m \u001b[38;5;28;01mexcept\u001b[39;00m \u001b[38;5;167;01mNotImplementedError\u001b[39;00m \u001b[38;5;28;01mas\u001b[39;00m e:\n\u001b[1;32m   1166\u001b[0m     \u001b[38;5;28;01mif\u001b[39;00m \u001b[38;5;28mstr\u001b[39m(e) \u001b[38;5;241m==\u001b[39m \u001b[38;5;124m\"\u001b[39m\u001b[38;5;124mCannot copy out of meta tensor; no data!\u001b[39m\u001b[38;5;124m\"\u001b[39m:\n",
      "\u001b[0;31mKeyboardInterrupt\u001b[0m: "
     ]
    }
   ],
   "source": [
    "### LLM & Prompt Setup\n",
    "# Initialize Llama model\n",
    "model_id = \"meta-llama/Llama-3.1-8B-Instruct\"\n",
    "\n",
    "tokenizer = AutoTokenizer.from_pretrained(pretrained_model_name_or_path=model_id, token=True)\n",
    "llm_model = AutoModelForCausalLM.from_pretrained(pretrained_model_name_or_path=model_id, \n",
    "                                                 torch_dtype=torch.float16, \n",
    "                                                 low_cpu_mem_usage=False,\n",
    "                                                 token=True)\n",
    "llm_model.to(device)\n",
    "\n",
    "def prompt_formatter(query: str, context_documents: List[str]) -> str:\n",
    "    context = \"\\n\".join([f\"[{i+1}] {doc}\" for i, doc in enumerate(context_documents)])\n",
    "    base_prompt = f\"\"\"You are a knowledgeable assistant. Based on the following context, please answer the query concisely. If the information is not available in the context, please state that you don't have enough information to answer accurately.\n",
    "\n",
    "Context:\n",
    "{context}\n",
    "\n",
    "Query: {query}\n",
    "\n",
    "Answer:\"\"\"\n",
    "    return base_prompt"
   ]
  },
  {
   "cell_type": "code",
   "execution_count": null,
   "metadata": {},
   "outputs": [],
   "source": [
    "### Full RAG Pipeline\n",
    "def rag_query(query: str, temperature=0.8, max_new_tokens=200) -> str:\n",
    "    try:\n",
    "        # Retrieve relevant documents\n",
    "        results = ties_collection.query(query_texts=[query], n_results=5)\n",
    "        documents = results['documents'][0]\n",
    "        \n",
    "        # Format prompt with retrieved context\n",
    "        prompt = prompt_formatter(query, documents)\n",
    "        \n",
    "        # Tokenize input\n",
    "        inputs = tokenizer(prompt, return_tensors=\"pt\", truncation=True).to(device)\n",
    "        \n",
    "        # Generate response\n",
    "        with torch.no_grad():\n",
    "            outputs = llm_model.generate(\n",
    "                input_ids=inputs[\"input_ids\"],\n",
    "                attention_mask=inputs[\"attention_mask\"],\n",
    "                temperature=temperature,\n",
    "                do_sample=True,\n",
    "                max_new_tokens=max_new_tokens,\n",
    "                top_p=0.95,\n",
    "                top_k=50,\n",
    "                repetition_penalty=1.2\n",
    "            )\n",
    "            \n",
    "        # Decode and format response\n",
    "        output_text = tokenizer.decode(outputs[0], skip_special_tokens=True, clean_up_tokenization_spaces=True)\n",
    "        answer = output_text[len(prompt):].strip()\n",
    "        return answer\n",
    "        \n",
    "    except Exception as e:\n",
    "        return f\"An error occurred: {str(e)}. Please try again or rephrase your question.\"\n"
   ]
  },
  {
   "cell_type": "code",
   "execution_count": null,
   "metadata": {},
   "outputs": [],
   "source": [
    "# Test the pipeline\n",
    "query = \"What is a healthy breakfast?\"\n",
    "response = rag_query(query)\n",
    "display(Markdown(response))"
   ]
  }
 ],
 "metadata": {
  "kernelspec": {
   "display_name": "dietbot",
   "language": "python",
   "name": "python3"
  },
  "language_info": {
   "codemirror_mode": {
    "name": "ipython",
    "version": 3
   },
   "file_extension": ".py",
   "mimetype": "text/x-python",
   "name": "python",
   "nbconvert_exporter": "python",
   "pygments_lexer": "ipython3",
   "version": "3.10.15"
  }
 },
 "nbformat": 4,
 "nbformat_minor": 2
}
