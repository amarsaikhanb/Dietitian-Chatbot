{
 "cells": [
  {
   "cell_type": "code",
   "execution_count": 10,
   "metadata": {},
   "outputs": [
    {
     "name": "stdout",
     "output_type": "stream",
     "text": [
      "\n",
      "Result 1\n",
      "Page: 45\n",
      "Similarity Score: 0.4953\n",
      "Text: Meats, poultry, and seafood are not included. Seafood, which includes fish and shellfish, is a protein foods subgroup that provides beneficial fatty acids (e.g., eicosapentaenoic acid [EPA] and docosa...\n",
      "\n",
      "Result 2\n",
      "Page: 157\n",
      "Similarity Score: 0.4935\n",
      "Text: Nuts should be unsalted. Beans, Peas, Lentils: Can be considered part of the protein foods group as well as the vegetable group, but should be counted in one group only....\n",
      "\n",
      "Result 3\n",
      "Page: 140\n",
      "Similarity Score: 0.4917\n",
      "Text: About 50 percent of women and 30 percent of men 71 and older fall short of protein foods recommendations. The majority of protein in the Healthy U.S.-Style Dietary Pattern is accounted for in the prot...\n"
     ]
    }
   ],
   "source": [
    "import chromadb\n",
    "from chromadb.utils import embedding_functions\n",
    "\n",
    "# Initialize the same embedding function used during storage\n",
    "embedding_function = embedding_functions.SentenceTransformerEmbeddingFunction(\n",
    "    model_name=\"dunzhang/stella_en_1.5B_v5\"\n",
    ")\n",
    "\n",
    "# Connect to your existing Chroma database\n",
    "chroma_client = chromadb.PersistentClient(path=\"./chromadb\")\n",
    "\n",
    "# Get your collection\n",
    "collection = chroma_client.get_collection(\n",
    "    name=\"guidlines_embeddings\",\n",
    "    embedding_function=embedding_function\n",
    ")\n",
    "\n",
    "# Query the collection (you can adjust n_results as needed)\n",
    "query = \"What is the importance of protein?\"  # Replace with your actual query\n",
    "results = collection.query(\n",
    "    query_texts=[query],\n",
    "    n_results=3  # Return top 3 most relevant chunks\n",
    ")\n",
    "\n",
    "# Print results\n",
    "for i, (document, metadata, distance) in enumerate(zip(\n",
    "    results['documents'][0],\n",
    "    results['metadatas'][0],\n",
    "    results['distances'][0]\n",
    ")):\n",
    "    print(f\"\\nResult {i+1}\")\n",
    "    print(f\"Page: {metadata['page_number']}\")\n",
    "    print(f\"Similarity Score: {1 - distance:.4f}\")  # Converting distance to similarity\n",
    "    print(f\"Text: {document[:200]}...\")  # Show first 200 characters"
   ]
  },
  {
   "cell_type": "code",
   "execution_count": 4,
   "metadata": {},
   "outputs": [],
   "source": [
    "import chromadb\n",
    "from sentence_transformers import SentenceTransformer\n",
    "from transformers import AutoModelForCausalLM, AutoTokenizer\n",
    "import torch\n",
    "\n",
    "def query_documents(query: str, collection_name: str = \"guidlines_embeddings\", n_results: int = 3):\n",
    "    # Initialize the same embedding model used during storage\n",
    "    embedding_model = SentenceTransformer(\"dunzhang/stella_en_1.5B_v5\", device=\"cpu\")\n",
    "    query_embedding = embedding_model.encode(query).tolist()\n",
    "    \n",
    "    # Connect to Chroma\n",
    "    client = chromadb.PersistentClient(path=\"./chromadb\")\n",
    "    collection = client.get_collection(name=collection_name)\n",
    "    \n",
    "    # Query the collection\n",
    "    results = collection.query(\n",
    "        query_embeddings=[query_embedding],\n",
    "        n_results=n_results\n",
    "    )\n",
    "    \n",
    "    return results\n",
    "\n",
    "def generate_response(\n",
    "    query: str,\n",
    "    context: list[str],\n",
    "    model_name: str = \"meta-llama/Llama-3.2-1B-Instruct\",\n",
    "    max_length: int = 512\n",
    ") -> str:\n",
    "    # Construct a friendly, professional prompt\n",
    "    system_prompt = \"\"\"You are a helpful and professional assistant. Always:\n",
    "    - Provide accurate information based solely on the given context\n",
    "    - Use professional, respectful, and inclusive language\n",
    "    - If the context doesn't contain enough information, honestly say \"I don't have enough information to answer that question\"\n",
    "    - Keep responses clear and concise\n",
    "    \"\"\"\n",
    "    \n",
    "    formatted_context = \"\\n\\n\".join(context)\n",
    "    \n",
    "    prompt = f\"\"\"{system_prompt}\n",
    "\n",
    "Context:\n",
    "{formatted_context}\n",
    "\n",
    "Question: {query}\n",
    "Answer: \"\"\"\n",
    "\n",
    "    # Initialize tokenizer and model\n",
    "    tokenizer = AutoTokenizer.from_pretrained(model_name, trust_remote_code=True)\n",
    "    model = AutoModelForCausalLM.from_pretrained(model_name, device_map=\"auto\", trust_remote_code=True)\n",
    "    model.eval()\n",
    "\n",
    "    # Move to GPU if available\n",
    "    device = \"cuda\" if torch.cuda.is_available() else \"cpu\"\n",
    "    model = model.to(device)\n",
    "\n",
    "    # Generate response\n",
    "    inputs = tokenizer(prompt, return_tensors=\"pt\").to(device)\n",
    "    outputs = model.generate(\n",
    "        **inputs,\n",
    "        max_new_tokens=max_length,\n",
    "        do_sample=True,\n",
    "        temperature=0.1,  # Lower temperature for more focused responses\n",
    "        top_p=0.9,\n",
    "        pad_token_id=tokenizer.eos_token_id\n",
    "    )\n",
    "\n",
    "    # Decode and clean up response\n",
    "    response = tokenizer.decode(outputs[0], skip_special_tokens=True)\n",
    "    if \"Answer:\" in response:\n",
    "        response = response.split(\"Answer:\", 1)[-1].strip()\n",
    "    \n",
    "    return response.strip()"
   ]
  },
  {
   "cell_type": "code",
   "execution_count": 8,
   "metadata": {},
   "outputs": [],
   "source": [
    "results = query_documents(\"What is a healthy breakfast for a 30 year old woman?\")"
   ]
  },
  {
   "cell_type": "code",
   "execution_count": 10,
   "metadata": {},
   "outputs": [
    {
     "data": {
      "application/vnd.jupyter.widget-view+json": {
       "model_id": "78f53e3e0ae54c7393229abf11000820",
       "version_major": 2,
       "version_minor": 0
      },
      "text/plain": [
       "model.safetensors:   0%|          | 0.00/2.47G [00:00<?, ?B/s]"
      ]
     },
     "metadata": {},
     "output_type": "display_data"
    },
    {
     "data": {
      "application/vnd.jupyter.widget-view+json": {
       "model_id": "2b924a1c8a064ec6a5ca9ea62ce5d895",
       "version_major": 2,
       "version_minor": 0
      },
      "text/plain": [
       "generation_config.json:   0%|          | 0.00/189 [00:00<?, ?B/s]"
      ]
     },
     "metadata": {},
     "output_type": "display_data"
    },
    {
     "name": "stdout",
     "output_type": "stream",
     "text": [
      "300-400 calories, with a balance of protein, healthy fats, and complex carbohydrates.\n"
     ]
    }
   ],
   "source": [
    "context = results['documents'][0]  # Get the retrieved documents\n",
    "response = generate_response(\"What is a healthy breakfast for a 30 year old woman?\", context)\n",
    "print(response)"
   ]
  }
 ],
 "metadata": {
  "kernelspec": {
   "display_name": ".venv",
   "language": "python",
   "name": "python3"
  },
  "language_info": {
   "codemirror_mode": {
    "name": "ipython",
    "version": 3
   },
   "file_extension": ".py",
   "mimetype": "text/x-python",
   "name": "python",
   "nbconvert_exporter": "python",
   "pygments_lexer": "ipython3",
   "version": "3.12.8"
  }
 },
 "nbformat": 4,
 "nbformat_minor": 2
}
